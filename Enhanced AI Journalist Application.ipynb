{
 "cells": [
  {
   "cell_type": "markdown",
   "id": "9ea9c4a8-cb5d-4a34-bdcc-d128e7df239e",
   "metadata": {},
   "source": [
    "# Import Required Libraries"
   ]
  },
  {
   "cell_type": "code",
   "execution_count": 2,
   "id": "b7ac3af9-5593-4fbf-ad22-d7e21bca05b2",
   "metadata": {},
   "outputs": [],
   "source": [
    "from textwrap import dedent\n",
    "from phi.assistant import Assistant\n",
    "from phi.tools.serpapi_tools import SerpApiTools\n",
    "from phi.tools.newspaper_toolkit import NewspaperToolkit\n",
    "import streamlit as st\n",
    "from phi.llm.openai import OpenAIChat\n",
    "import logging"
   ]
  },
  {
   "cell_type": "markdown",
   "id": "ecde285e-de9f-455e-b3ca-4af253b3f99e",
   "metadata": {},
   "source": [
    "# Set up logging"
   ]
  },
  {
   "cell_type": "code",
   "execution_count": 3,
   "id": "032fdac0-0985-412d-a0ae-4f99cd5e70af",
   "metadata": {},
   "outputs": [],
   "source": [
    "logging.basicConfig(level=logging.INFO)"
   ]
  },
  {
   "cell_type": "markdown",
   "id": "bd0310df-b34a-456e-b636-595b7156a644",
   "metadata": {},
   "source": [
    "# Set up the Streamlit app"
   ]
  },
  {
   "cell_type": "code",
   "execution_count": 4,
   "id": "84691e9f-e83c-42d8-b3c0-c247d6cc07dd",
   "metadata": {},
   "outputs": [
    {
     "name": "stderr",
     "output_type": "stream",
     "text": [
      "2024-06-05 10:55:49.300 \n",
      "  \u001b[33m\u001b[1mWarning:\u001b[0m to view this Streamlit app on a browser, run it with the following\n",
      "  command:\n",
      "\n",
      "    streamlit run C:\\Users\\Henry Morgan\\anaconda3\\Lib\\site-packages\\ipykernel_launcher.py [ARGUMENTS]\n"
     ]
    },
    {
     "data": {
      "text/plain": [
       "DeltaGenerator()"
      ]
     },
     "execution_count": 4,
     "metadata": {},
     "output_type": "execute_result"
    }
   ],
   "source": [
    "st.title(\"AI Journalist Agent 🗞️\")\n",
    "st.caption(\"Generate High-quality articles with AI Journalist by researching, writing, and editing quality articles on autopilot using GPT-4o\")"
   ]
  },
  {
   "cell_type": "markdown",
   "id": "714645c2-7830-48a8-b0fa-6a3d0852baa8",
   "metadata": {},
   "source": [
    "# User authentication"
   ]
  },
  {
   "cell_type": "code",
   "execution_count": 6,
   "id": "ae06e8f9-875a-45df-a96b-f6678d3d9700",
   "metadata": {},
   "outputs": [],
   "source": [
    "st.subheader(\"User Authentication\")\n",
    "openai_api_key = st.text_input(\"Enter OpenAI API Key to access GPT-4o\", type=\"password\")\n",
    "serp_api_key = st.text_input(\"Enter Serp API Key for Search functionality\", type=\"password\")\n",
    "if openai_api_key and serp_api_key:\n",
    "    try:\n",
    "        # Initialize Assistants\n",
    "\n",
    "        # Searcher Assistant\n",
    "        searcher = Assistant(\n",
    "            name=\"Searcher\",\n",
    "            role=\"Searches for top URLs based on a topic\",\n",
    "            llm=OpenAIChat(model=\"gpt-4o\", api_key=openai_api_key),\n",
    "            description=dedent(\n",
    "                \"\"\"\\\n",
    "                You are a world-class journalist for the New York Times. Given a topic, generate a list of 3 search terms\n",
    "                for writing an article on that topic. Then search the web for each term, analyze the results\n",
    "                and return the 10 most relevant URLs.\n",
    "                \"\"\"\n",
    "            ),\n",
    "            instructions=[\n",
    "                \"Given a topic, first generate a list of 3 search terms related to that topic.\",\n",
    "                \"For each search term, `search_google` and analyze the results.\",\n",
    "                \"From the results of all searches, return the 10 most relevant URLs to the topic.\",\n",
    "                \"Remember: you are writing for the New York Times, so the quality of the sources is important.\",\n",
    "            ],\n",
    "            tools=[SerpApiTools(api_key=serp_api_key)],\n",
    "            add_datetime_to_instructions=True,\n",
    "        )\n",
    "\n",
    "        # Writer Assistant\n",
    "        writer = Assistant(\n",
    "            name=\"Writer\",\n",
    "            role=\"Retrieves text from URLs and writes a high-quality article\",\n",
    "            llm=OpenAIChat(model=\"gpt-4o\", api_key=openai_api_key),\n",
    "            description=dedent(\n",
    "                \"\"\"\\\n",
    "                You are a senior writer for the New York Times. Given a topic and a list of URLs,\n",
    "                your goal is to write a high-quality NYT-worthy article on the topic.\n",
    "                \"\"\"\n",
    "            ),\n",
    "            instructions=[\n",
    "                \"Given a topic and a list of URLs, first read the article using `get_article_text`.\",\n",
    "                \"Then write a high-quality NYT-worthy article on the topic.\",\n",
    "                \"The article should be well-structured, informative, and engaging.\",\n",
    "                \"Ensure the length is at least as long as a NYT cover story -- at a minimum, 15 paragraphs.\",\n",
    "                \"Ensure you provide a nuanced and balanced opinion, quoting facts where possible.\",\n",
    "                \"Remember: you are writing for the New York Times, so the quality of the article is important.\",\n",
    "                \"Focus on clarity, coherence, and overall quality.\",\n",
    "                \"Never make up facts or plagiarize. Always provide proper attribution.\",\n",
    "            ],\n",
    "            tools=[NewspaperToolkit()],\n",
    "            add_datetime_to_instructions=True,\n",
    "            add_chat_history_to_prompt=True,\n",
    "            num_history_messages=3,\n",
    "        )\n",
    "\n",
    "        # Editor Assistant\n",
    "        editor = Assistant(\n",
    "            name=\"Editor\",\n",
    "            llm=OpenAIChat(model=\"gpt-4o\", api_key=openai_api_key),\n",
    "            team=[searcher, writer],\n",
    "            description=\"You are a senior NYT editor. Given a topic, your goal is to write a NYT-worthy article.\",\n",
    "            instructions=[\n",
    "                \"Given a topic, ask the search journalist to search for the most relevant URLs for that topic.\",\n",
    "                \"Then pass a description of the topic and URLs to the writer to get a draft of the article.\",\n",
    "                \"Edit, proofread, and refine the article to ensure it meets the high standards of the New York Times.\",\n",
    "                \"The article should be extremely articulate and well written.\",\n",
    "                \"Focus on clarity, coherence, and overall quality.\",\n",
    "                \"Ensure the article is engaging and informative.\",\n",
    "                \"Remember: you are the final gatekeeper before the article is published.\",\n",
    "            ],\n",
    "            add_datetime_to_instructions=True,\n",
    "            # debug_mode=True,\n",
    "            markdown=True,\n",
    "        )\n",
    "\n",
    "        # Input field for the report query\n",
    "        st.subheader(\"Article Generation\")\n",
    "        query = st.text_input(\"What do you want the AI journalist to write an Article on?\")\n",
    "        length = st.selectbox(\"Select the article length\", options=[\"Short (5-10 paragraphs)\", \"Medium (10-15 paragraphs)\", \"Long (15+ paragraphs)\"])\n",
    "        tone = st.selectbox(\"Select the tone of the article\", options=[\"Neutral\", \"Positive\", \"Negative\", \"Informative\", \"Opinionated\"])\n",
    "\n",
    "        if query:\n",
    "            with st.spinner(\"Processing...\"):\n",
    "                try:\n",
    "                    # Get the response from the assistant\n",
    "                    response = editor.run(query, stream=False)\n",
    "                    st.write(response)\n",
    "                except Exception as e:\n",
    "                    logging.error(\"Error generating article: %s\", e)\n",
    "                    st.error(\"An error occurred while generating the article. Please try again.\")\n",
    "\n",
    "    except Exception as e:\n",
    "        logging.error(\"Error initializing assistants: %s\", e)\n",
    "        st.error(\"An error occurred while setting up the assistants. Please check your API keys and try again.\")\n",
    "else:\n",
    "    st.info(\"Please enter both OpenAI and Serp API keys to proceed.\")"
   ]
  },
  {
   "cell_type": "markdown",
   "id": "a603e147-f79c-4fee-994c-4987384518f6",
   "metadata": {},
   "source": [
    "### Detailed Explanation:\n",
    "1. Import Required Libraries\n",
    "The required libraries are imported, including those for creating AI assistants, searching the web, retrieving article text, and setting up the Streamlit web application.\n",
    "\n",
    "2. Set Up Logging\n",
    "Logging is set up to capture and display any errors that occur during the execution of the app.\n",
    "\n",
    "3. Set Up Streamlit App\n",
    "The title and description of the Streamlit app are set.\n",
    "\n",
    "4. User Authentication\n",
    "Input fields are created for the user to enter their OpenAI and SerpAPI keys. These keys are required to access the OpenAI GPT-4 model and perform web searches.\n",
    "\n",
    "5. Initialize Assistants\n",
    "Three assistants are initialized:\n",
    "\n",
    "Searcher: Generates search terms, performs web searches, and returns relevant URLs.\n",
    "Writer: Retrieves text from the URLs and writes a high-quality article.\n",
    "Editor: Coordinates the search and writing tasks, edits and refines the article to ensure it meets high standards.\n",
    "6. Input Field for Article Query\n",
    "Additional input fields are provided for the user to specify the topic, length, and tone of the article they want to generate.\n",
    "\n",
    "7. Process the Query and Generate the Article\n",
    "When the user enters a query and specifies the article requirements, the editor assistant coordinates the search and writing tasks to generate the final article. Progress indicators are displayed while the article is being processed, and any errors that occur are logged and displayed to the user.\n",
    "\n",
    "Key Features:\n",
    "- User Authentication: Ensures that only authenticated users can use the app by requiring API keys.\n",
    "- Enhanced Input Fields: Captures detailed requirements for the article, such as length and tone.\n",
    "- Logging and Monitoring: Keeps track of errors and other important events for debugging and monitoring.\n",
    "- Error Handling: Gracefully handles errors and informs the user.\n",
    "- Progress Indicators: Keeps the user informed about the current state of the process.\n",
    "- Customization Options: Allows users to customize the length and tone of the article, providing more control over the output."
   ]
  },
  {
   "cell_type": "code",
   "execution_count": null,
   "id": "e6ada0b8-cab5-46ec-bf54-7d0e4832721f",
   "metadata": {},
   "outputs": [],
   "source": []
  }
 ],
 "metadata": {
  "kernelspec": {
   "display_name": "Python 3 (ipykernel)",
   "language": "python",
   "name": "python3"
  },
  "language_info": {
   "codemirror_mode": {
    "name": "ipython",
    "version": 3
   },
   "file_extension": ".py",
   "mimetype": "text/x-python",
   "name": "python",
   "nbconvert_exporter": "python",
   "pygments_lexer": "ipython3",
   "version": "3.11.5"
  }
 },
 "nbformat": 4,
 "nbformat_minor": 5
}
